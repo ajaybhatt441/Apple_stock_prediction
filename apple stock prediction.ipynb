{
 "cells": [
  {
   "cell_type": "code",
   "execution_count": 1,
   "metadata": {},
   "outputs": [],
   "source": [
    "#import pandas_datareader.data as pdr\n",
    "import pandas as pd \n",
    "import numpy as np\n",
    "import matplotlib.pyplot as plt\n",
    "import seaborn as sns"
   ]
  },
  {
   "cell_type": "code",
   "execution_count": 2,
   "metadata": {},
   "outputs": [],
   "source": [
    "data=pd.read_csv('APPLE.csv.txt')"
   ]
  },
  {
   "cell_type": "code",
   "execution_count": 3,
   "metadata": {},
   "outputs": [
    {
     "data": {
      "text/html": [
       "<div>\n",
       "<style scoped>\n",
       "    .dataframe tbody tr th:only-of-type {\n",
       "        vertical-align: middle;\n",
       "    }\n",
       "\n",
       "    .dataframe tbody tr th {\n",
       "        vertical-align: top;\n",
       "    }\n",
       "\n",
       "    .dataframe thead th {\n",
       "        text-align: right;\n",
       "    }\n",
       "</style>\n",
       "<table border=\"1\" class=\"dataframe\">\n",
       "  <thead>\n",
       "    <tr style=\"text-align: right;\">\n",
       "      <th></th>\n",
       "      <th>Unnamed: 0</th>\n",
       "      <th>symbol</th>\n",
       "      <th>date</th>\n",
       "      <th>close</th>\n",
       "      <th>high</th>\n",
       "      <th>low</th>\n",
       "      <th>open</th>\n",
       "      <th>volume</th>\n",
       "      <th>adjClose</th>\n",
       "      <th>adjHigh</th>\n",
       "      <th>adjLow</th>\n",
       "      <th>adjOpen</th>\n",
       "      <th>adjVolume</th>\n",
       "      <th>divCash</th>\n",
       "      <th>splitFactor</th>\n",
       "    </tr>\n",
       "  </thead>\n",
       "  <tbody>\n",
       "    <tr>\n",
       "      <th>0</th>\n",
       "      <td>0</td>\n",
       "      <td>AAPL</td>\n",
       "      <td>2015-05-27 00:00:00+00:00</td>\n",
       "      <td>132.045</td>\n",
       "      <td>132.260</td>\n",
       "      <td>130.05</td>\n",
       "      <td>130.34</td>\n",
       "      <td>45833246</td>\n",
       "      <td>121.682558</td>\n",
       "      <td>121.880685</td>\n",
       "      <td>119.844118</td>\n",
       "      <td>120.111360</td>\n",
       "      <td>45833246</td>\n",
       "      <td>0.0</td>\n",
       "      <td>1.0</td>\n",
       "    </tr>\n",
       "    <tr>\n",
       "      <th>1</th>\n",
       "      <td>1</td>\n",
       "      <td>AAPL</td>\n",
       "      <td>2015-05-28 00:00:00+00:00</td>\n",
       "      <td>131.780</td>\n",
       "      <td>131.950</td>\n",
       "      <td>131.10</td>\n",
       "      <td>131.86</td>\n",
       "      <td>30733309</td>\n",
       "      <td>121.438354</td>\n",
       "      <td>121.595013</td>\n",
       "      <td>120.811718</td>\n",
       "      <td>121.512076</td>\n",
       "      <td>30733309</td>\n",
       "      <td>0.0</td>\n",
       "      <td>1.0</td>\n",
       "    </tr>\n",
       "    <tr>\n",
       "      <th>2</th>\n",
       "      <td>2</td>\n",
       "      <td>AAPL</td>\n",
       "      <td>2015-05-29 00:00:00+00:00</td>\n",
       "      <td>130.280</td>\n",
       "      <td>131.450</td>\n",
       "      <td>129.90</td>\n",
       "      <td>131.23</td>\n",
       "      <td>50884452</td>\n",
       "      <td>120.056069</td>\n",
       "      <td>121.134251</td>\n",
       "      <td>119.705890</td>\n",
       "      <td>120.931516</td>\n",
       "      <td>50884452</td>\n",
       "      <td>0.0</td>\n",
       "      <td>1.0</td>\n",
       "    </tr>\n",
       "    <tr>\n",
       "      <th>3</th>\n",
       "      <td>3</td>\n",
       "      <td>AAPL</td>\n",
       "      <td>2015-06-01 00:00:00+00:00</td>\n",
       "      <td>130.535</td>\n",
       "      <td>131.390</td>\n",
       "      <td>130.05</td>\n",
       "      <td>131.20</td>\n",
       "      <td>32112797</td>\n",
       "      <td>120.291057</td>\n",
       "      <td>121.078960</td>\n",
       "      <td>119.844118</td>\n",
       "      <td>120.903870</td>\n",
       "      <td>32112797</td>\n",
       "      <td>0.0</td>\n",
       "      <td>1.0</td>\n",
       "    </tr>\n",
       "    <tr>\n",
       "      <th>4</th>\n",
       "      <td>4</td>\n",
       "      <td>AAPL</td>\n",
       "      <td>2015-06-02 00:00:00+00:00</td>\n",
       "      <td>129.960</td>\n",
       "      <td>130.655</td>\n",
       "      <td>129.32</td>\n",
       "      <td>129.86</td>\n",
       "      <td>33667627</td>\n",
       "      <td>119.761181</td>\n",
       "      <td>120.401640</td>\n",
       "      <td>119.171406</td>\n",
       "      <td>119.669029</td>\n",
       "      <td>33667627</td>\n",
       "      <td>0.0</td>\n",
       "      <td>1.0</td>\n",
       "    </tr>\n",
       "  </tbody>\n",
       "</table>\n",
       "</div>"
      ],
      "text/plain": [
       "   Unnamed: 0 symbol                       date    close     high     low  \\\n",
       "0           0   AAPL  2015-05-27 00:00:00+00:00  132.045  132.260  130.05   \n",
       "1           1   AAPL  2015-05-28 00:00:00+00:00  131.780  131.950  131.10   \n",
       "2           2   AAPL  2015-05-29 00:00:00+00:00  130.280  131.450  129.90   \n",
       "3           3   AAPL  2015-06-01 00:00:00+00:00  130.535  131.390  130.05   \n",
       "4           4   AAPL  2015-06-02 00:00:00+00:00  129.960  130.655  129.32   \n",
       "\n",
       "     open    volume    adjClose     adjHigh      adjLow     adjOpen  \\\n",
       "0  130.34  45833246  121.682558  121.880685  119.844118  120.111360   \n",
       "1  131.86  30733309  121.438354  121.595013  120.811718  121.512076   \n",
       "2  131.23  50884452  120.056069  121.134251  119.705890  120.931516   \n",
       "3  131.20  32112797  120.291057  121.078960  119.844118  120.903870   \n",
       "4  129.86  33667627  119.761181  120.401640  119.171406  119.669029   \n",
       "\n",
       "   adjVolume  divCash  splitFactor  \n",
       "0   45833246      0.0          1.0  \n",
       "1   30733309      0.0          1.0  \n",
       "2   50884452      0.0          1.0  \n",
       "3   32112797      0.0          1.0  \n",
       "4   33667627      0.0          1.0  "
      ]
     },
     "execution_count": 3,
     "metadata": {},
     "output_type": "execute_result"
    }
   ],
   "source": [
    "data.head()"
   ]
  },
  {
   "cell_type": "code",
   "execution_count": 8,
   "metadata": {},
   "outputs": [],
   "source": [
    "data['date']=pd.to_datetime(data['date'])"
   ]
  },
  {
   "cell_type": "code",
   "execution_count": 9,
   "metadata": {},
   "outputs": [],
   "source": [
    "df=data.reset_index()['close']"
   ]
  },
  {
   "cell_type": "code",
   "execution_count": 10,
   "metadata": {},
   "outputs": [
    {
     "data": {
      "text/plain": [
       "0    132.045\n",
       "1    131.780\n",
       "2    130.280\n",
       "3    130.535\n",
       "4    129.960\n",
       "Name: close, dtype: float64"
      ]
     },
     "execution_count": 10,
     "metadata": {},
     "output_type": "execute_result"
    }
   ],
   "source": [
    "data['close'].head()"
   ]
  },
  {
   "cell_type": "code",
   "execution_count": 11,
   "metadata": {},
   "outputs": [
    {
     "data": {
      "text/plain": [
       "[<matplotlib.lines.Line2D at 0x258ce8cf940>]"
      ]
     },
     "execution_count": 11,
     "metadata": {},
     "output_type": "execute_result"
    },
    {
     "data": {
      "image/png": "[encoded data removed]",
      "text/plain": [
       "<Figure size 432x288 with 1 Axes>"
      ]
     },
     "metadata": {
      "needs_background": "light"
     },
     "output_type": "display_data"
    }
   ],
   "source": [
    "plt.figure()\n",
    "plt.plot(data['close'],'--',color='b')"
   ]
  },
  {
   "cell_type": "code",
   "execution_count": 28,
   "metadata": {},
   "outputs": [],
   "source": [
    "from sklearn.preprocessing import MinMaxScaler\n",
    "from sklearn.ensemble import RandomForestRegressor\n",
    "from sklearn.model_selection import GridSearchCV"
   ]
  },
  {
   "cell_type": "code",
   "execution_count": 12,
   "metadata": {},
   "outputs": [],
   "source": [
    "scaler=MinMaxScaler().fit(np.array(data['close']).reshape(-1,1))\n",
    "df1=scaler.transform(np.array(data['close']).reshape(-1,1))"
   ]
  },
  {
   "cell_type": "code",
   "execution_count": 13,
   "metadata": {},
   "outputs": [
    {
     "data": {
      "text/plain": [
       "array([[0.17607447],\n",
       "       [0.17495567],\n",
       "       [0.16862282],\n",
       "       ...,\n",
       "       [0.96635143],\n",
       "       [0.9563033 ],\n",
       "       [0.96491598]])"
      ]
     },
     "execution_count": 13,
     "metadata": {},
     "output_type": "execute_result"
    }
   ],
   "source": [
    "df1"
   ]
  },
  {
   "cell_type": "code",
   "execution_count": 14,
   "metadata": {},
   "outputs": [],
   "source": [
    "training_size=int(len(df1)*.7)\n",
    "test_size=len(df1)-training_size\n"
   ]
  },
  {
   "cell_type": "code",
   "execution_count": 15,
   "metadata": {},
   "outputs": [
    {
     "data": {
      "text/plain": [
       "(880, 378)"
      ]
     },
     "execution_count": 15,
     "metadata": {},
     "output_type": "execute_result"
    }
   ],
   "source": [
    "(training_size,test_size)"
   ]
  },
  {
   "cell_type": "code",
   "execution_count": 16,
   "metadata": {},
   "outputs": [
    {
     "data": {
      "text/plain": [
       "1258"
      ]
     },
     "execution_count": 16,
     "metadata": {},
     "output_type": "execute_result"
    }
   ],
   "source": [
    "len(df1)"
   ]
  },
  {
   "cell_type": "code",
   "execution_count": 17,
   "metadata": {},
   "outputs": [],
   "source": [
    "train_data,test_data=(df1[:training_size],df1[training_size:])"
   ]
  },
  {
   "cell_type": "code",
   "execution_count": 18,
   "metadata": {},
   "outputs": [
    {
     "data": {
      "text/plain": [
       "(880, 1)"
      ]
     },
     "execution_count": 18,
     "metadata": {},
     "output_type": "execute_result"
    }
   ],
   "source": [
    "train_data.shape"
   ]
  },
  {
   "cell_type": "code",
   "execution_count": 19,
   "metadata": {},
   "outputs": [],
   "source": [
    "def create_dataset(dataset,time_step):\n",
    "    data_x,data_y=[],[]\n",
    "    for i in range(len(dataset)-time_step-1):\n",
    "        a=dataset[i:i+time_step,0]\n",
    "        data_x.append(a)\n",
    "        data_y.addend(dataset[i+time_step,0])\n",
    "    return(np.array(data_x),np.array(data_y))\n",
    "        \n",
    "        "
   ]
  },
  {
   "cell_type": "code",
   "execution_count": 20,
   "metadata": {},
   "outputs": [],
   "source": [
    "def create_dataset(dataset,time_step):\n",
    "    data_x,data_y=[],[]\n",
    "    for i in range(len(dataset)-time_step-1):\n",
    "        a=dataset[i:i+time_step]\n",
    "        data_x.append(a)\n",
    "        data_y.append(dataset[i+time_step])\n",
    "    return(np.array(data_x),np.array(data_y))"
   ]
  },
  {
   "cell_type": "code",
   "execution_count": 21,
   "metadata": {},
   "outputs": [],
   "source": [
    "time_step=100"
   ]
  },
  {
   "cell_type": "code",
   "execution_count": 22,
   "metadata": {},
   "outputs": [],
   "source": [
    "X_train,y_train=create_dataset(train_data,time_step)"
   ]
  },
  {
   "cell_type": "code",
   "execution_count": 23,
   "metadata": {},
   "outputs": [
    {
     "data": {
      "text/plain": [
       "(779, 100, 1)"
      ]
     },
     "execution_count": 23,
     "metadata": {},
     "output_type": "execute_result"
    }
   ],
   "source": [
    "X_train.shape"
   ]
  },
  {
   "cell_type": "code",
   "execution_count": 24,
   "metadata": {},
   "outputs": [],
   "source": [
    "X_test,y_test=create_dataset(test_data,time_step)"
   ]
  },
  {
   "cell_type": "code",
   "execution_count": 25,
   "metadata": {},
   "outputs": [
    {
     "data": {
      "text/plain": [
       "(277, 1)"
      ]
     },
     "execution_count": 25,
     "metadata": {},
     "output_type": "execute_result"
    }
   ],
   "source": [
    "y_test.shape"
   ]
  },
  {
   "cell_type": "code",
   "execution_count": 29,
   "metadata": {},
   "outputs": [],
   "source": [
    "from keras.models import Sequential\n",
    "from keras.layers import Dense,LSTM"
   ]
  },
  {
   "cell_type": "code",
   "execution_count": 30,
   "metadata": {},
   "outputs": [
    {
     "name": "stdout",
     "output_type": "stream",
     "text": [
      "WARNING:tensorflow:From C:\\Users\\ajay\\Anaconda3\\lib\\site-packages\\tensorflow\\python\\framework\\op_def_library.py:263: colocate_with (from tensorflow.python.framework.ops) is deprecated and will be removed in a future version.\n",
      "Instructions for updating:\n",
      "Colocations handled automatically by placer.\n"
     ]
    }
   ],
   "source": [
    "model=Sequential()\n",
    "model.add(LSTM(50,return_sequences=True,input_shape=(100,1)))\n",
    "model.add(LSTM(50,return_sequences=True))\n",
    "model.add(LSTM(50))\n",
    "model.add(Dense(1))\n",
    "model.compile(optimizer='adam',loss='mse',metrics=['accuracy'])"
   ]
  },
  {
   "cell_type": "code",
   "execution_count": 31,
   "metadata": {},
   "outputs": [
    {
     "name": "stdout",
     "output_type": "stream",
     "text": [
      "WARNING:tensorflow:From C:\\Users\\ajay\\Anaconda3\\lib\\site-packages\\tensorflow\\python\\ops\\math_ops.py:3066: to_int32 (from tensorflow.python.ops.math_ops) is deprecated and will be removed in a future version.\n",
      "Instructions for updating:\n",
      "Use tf.cast instead.\n",
      "Train on 779 samples, validate on 277 samples\n",
      "Epoch 1/100\n",
      "779/779 [==============================] - 17s 21ms/step - loss: 0.0309 - acc: 0.0013 - val_loss: 0.0318 - val_acc: 0.0036\n",
      "Epoch 2/100\n",
      "779/779 [==============================] - 5s 6ms/step - loss: 0.0051 - acc: 0.0013 - val_loss: 0.0050 - val_acc: 0.0036\n",
      "Epoch 3/100\n",
      "779/779 [==============================] - 5s 6ms/step - loss: 0.0019 - acc: 0.0013 - val_loss: 0.0047 - val_acc: 0.0036\n",
      "Epoch 4/100\n",
      "779/779 [==============================] - 5s 6ms/step - loss: 0.0011 - acc: 0.0013 - val_loss: 0.0045 - val_acc: 0.0036\n",
      "Epoch 5/100\n",
      "779/779 [==============================] - 5s 6ms/step - loss: 7.2506e-04 - acc: 0.0013 - val_loss: 0.0047 - val_acc: 0.0036\n",
      "Epoch 6/100\n",
      "779/779 [==============================] - 5s 6ms/step - loss: 6.6851e-04 - acc: 0.0013 - val_loss: 0.0045 - val_acc: 0.0036\n",
      "Epoch 7/100\n",
      "779/779 [==============================] - 5s 6ms/step - loss: 6.6636e-04 - acc: 0.0013 - val_loss: 0.0051 - val_acc: 0.0036\n",
      "Epoch 8/100\n",
      "779/779 [==============================] - 5s 6ms/step - loss: 6.7424e-04 - acc: 0.0013 - val_loss: 0.0050 - val_acc: 0.0036\n",
      "Epoch 9/100\n",
      "779/779 [==============================] - 5s 7ms/step - loss: 6.5149e-04 - acc: 0.0013 - val_loss: 0.0053 - val_acc: 0.0036\n",
      "Epoch 10/100\n",
      "779/779 [==============================] - 8s 11ms/step - loss: 6.4714e-04 - acc: 0.0013 - val_loss: 0.0051 - val_acc: 0.0036\n",
      "Epoch 11/100\n",
      "779/779 [==============================] - 5s 6ms/step - loss: 6.1855e-04 - acc: 0.0013 - val_loss: 0.0058 - val_acc: 0.0036\n",
      "Epoch 12/100\n",
      "779/779 [==============================] - 5s 6ms/step - loss: 7.4556e-04 - acc: 0.0013 - val_loss: 0.0056 - val_acc: 0.0036\n",
      "Epoch 13/100\n",
      "779/779 [==============================] - 5s 6ms/step - loss: 5.9060e-04 - acc: 0.0013 - val_loss: 0.0054 - val_acc: 0.0036\n",
      "Epoch 14/100\n",
      "779/779 [==============================] - 5s 6ms/step - loss: 5.8027e-04 - acc: 0.0013 - val_loss: 0.0045 - val_acc: 0.0036\n",
      "Epoch 15/100\n",
      "779/779 [==============================] - 6s 7ms/step - loss: 5.7339e-04 - acc: 0.0013 - val_loss: 0.0044 - val_acc: 0.0036\n",
      "Epoch 16/100\n",
      "779/779 [==============================] - 6s 7ms/step - loss: 5.7791e-04 - acc: 0.0013 - val_loss: 0.0042 - val_acc: 0.0036\n",
      "Epoch 17/100\n",
      "779/779 [==============================] - 5s 7ms/step - loss: 5.7039e-04 - acc: 0.0013 - val_loss: 0.0041 - val_acc: 0.0036\n",
      "Epoch 18/100\n",
      "779/779 [==============================] - 5s 6ms/step - loss: 5.6849e-04 - acc: 0.0013 - val_loss: 0.0041 - val_acc: 0.0036\n",
      "Epoch 19/100\n",
      "779/779 [==============================] - 5s 6ms/step - loss: 5.5580e-04 - acc: 0.0013 - val_loss: 0.0053 - val_acc: 0.0036\n",
      "Epoch 20/100\n",
      "779/779 [==============================] - 5s 6ms/step - loss: 5.6451e-04 - acc: 0.0013 - val_loss: 0.0039 - val_acc: 0.0036\n",
      "Epoch 21/100\n",
      "779/779 [==============================] - 6s 7ms/step - loss: 5.2037e-04 - acc: 0.0013 - val_loss: 0.0034 - val_acc: 0.0036\n",
      "Epoch 22/100\n",
      "779/779 [==============================] - 7s 9ms/step - loss: 5.1722e-04 - acc: 0.0013 - val_loss: 0.0037 - val_acc: 0.0036\n",
      "Epoch 23/100\n",
      "779/779 [==============================] - 5s 6ms/step - loss: 5.2202e-04 - acc: 0.0013 - val_loss: 0.0046 - val_acc: 0.0036\n",
      "Epoch 24/100\n",
      "779/779 [==============================] - 5s 6ms/step - loss: 4.9567e-04 - acc: 0.0013 - val_loss: 0.0051 - val_acc: 0.0036\n",
      "Epoch 25/100\n",
      "779/779 [==============================] - 5s 6ms/step - loss: 4.8284e-04 - acc: 0.0013 - val_loss: 0.0038 - val_acc: 0.0036\n",
      "Epoch 26/100\n",
      "779/779 [==============================] - 5s 6ms/step - loss: 4.7483e-04 - acc: 0.0013 - val_loss: 0.0043 - val_acc: 0.0036\n",
      "Epoch 27/100\n",
      "779/779 [==============================] - 5s 6ms/step - loss: 4.5858e-04 - acc: 0.0013 - val_loss: 0.0059 - val_acc: 0.0036\n",
      "Epoch 28/100\n",
      "779/779 [==============================] - 5s 6ms/step - loss: 4.8905e-04 - acc: 0.0013 - val_loss: 0.0036 - val_acc: 0.0036\n",
      "Epoch 29/100\n",
      "779/779 [==============================] - 5s 6ms/step - loss: 4.3946e-04 - acc: 0.0013 - val_loss: 0.0036 - val_acc: 0.0036\n",
      "Epoch 30/100\n",
      "779/779 [==============================] - 5s 6ms/step - loss: 4.2893e-04 - acc: 0.0013 - val_loss: 0.0043 - val_acc: 0.0036\n",
      "Epoch 31/100\n",
      "779/779 [==============================] - 5s 6ms/step - loss: 4.3133e-04 - acc: 0.0013 - val_loss: 0.0026 - val_acc: 0.0036\n",
      "Epoch 32/100\n",
      "779/779 [==============================] - 5s 6ms/step - loss: 4.3445e-04 - acc: 0.0013 - val_loss: 0.0055 - val_acc: 0.0036\n",
      "Epoch 33/100\n",
      "779/779 [==============================] - 5s 6ms/step - loss: 4.6039e-04 - acc: 0.0013 - val_loss: 0.0023 - val_acc: 0.0036\n",
      "Epoch 34/100\n",
      "779/779 [==============================] - 5s 6ms/step - loss: 4.2514e-04 - acc: 0.0013 - val_loss: 0.0023 - val_acc: 0.0036\n",
      "Epoch 35/100\n",
      "779/779 [==============================] - 5s 6ms/step - loss: 4.1743e-04 - acc: 0.0013 - val_loss: 0.0030 - val_acc: 0.0036\n",
      "Epoch 36/100\n",
      "779/779 [==============================] - 5s 6ms/step - loss: 3.9584e-04 - acc: 0.0013 - val_loss: 0.0050 - val_acc: 0.0036\n",
      "Epoch 37/100\n",
      "779/779 [==============================] - 5s 6ms/step - loss: 5.0925e-04 - acc: 0.0013 - val_loss: 0.0031 - val_acc: 0.0036\n",
      "Epoch 38/100\n",
      "779/779 [==============================] - 5s 6ms/step - loss: 4.8749e-04 - acc: 0.0013 - val_loss: 0.0023 - val_acc: 0.0036\n",
      "Epoch 39/100\n",
      "779/779 [==============================] - 5s 6ms/step - loss: 4.2314e-04 - acc: 0.0013 - val_loss: 0.0054 - val_acc: 0.0036\n",
      "Epoch 40/100\n",
      "779/779 [==============================] - 5s 6ms/step - loss: 4.4135e-04 - acc: 0.0013 - val_loss: 0.0019 - val_acc: 0.0036\n",
      "Epoch 41/100\n",
      "779/779 [==============================] - 5s 6ms/step - loss: 4.2471e-04 - acc: 0.0013 - val_loss: 0.0036 - val_acc: 0.0036\n",
      "Epoch 42/100\n",
      "779/779 [==============================] - 5s 6ms/step - loss: 4.2218e-04 - acc: 0.0013 - val_loss: 0.0021 - val_acc: 0.0036\n",
      "Epoch 43/100\n",
      "779/779 [==============================] - 5s 6ms/step - loss: 3.8593e-04 - acc: 0.0013 - val_loss: 0.0030 - val_acc: 0.0036\n",
      "Epoch 44/100\n",
      "779/779 [==============================] - 5s 6ms/step - loss: 3.5715e-04 - acc: 0.0013 - val_loss: 0.0018 - val_acc: 0.0036\n",
      "Epoch 45/100\n",
      "779/779 [==============================] - 6s 7ms/step - loss: 4.0207e-04 - acc: 0.0013 - val_loss: 0.0054 - val_acc: 0.0036\n",
      "Epoch 46/100\n",
      "779/779 [==============================] - 5s 6ms/step - loss: 4.3824e-04 - acc: 0.0013 - val_loss: 0.0018 - val_acc: 0.0036\n",
      "Epoch 47/100\n",
      "779/779 [==============================] - 5s 6ms/step - loss: 3.5306e-04 - acc: 0.0013 - val_loss: 0.0033 - val_acc: 0.0036\n",
      "Epoch 48/100\n",
      "779/779 [==============================] - 5s 6ms/step - loss: 3.6279e-04 - acc: 0.0013 - val_loss: 0.0019 - val_acc: 0.0036\n",
      "Epoch 49/100\n",
      "779/779 [==============================] - 5s 6ms/step - loss: 3.3916e-04 - acc: 0.0013 - val_loss: 0.0035 - val_acc: 0.0036\n",
      "Epoch 50/100\n",
      "779/779 [==============================] - 5s 6ms/step - loss: 4.2167e-04 - acc: 0.0013 - val_loss: 0.0018 - val_acc: 0.0036\n",
      "Epoch 51/100\n",
      "779/779 [==============================] - 6s 7ms/step - loss: 3.5611e-04 - acc: 0.0013 - val_loss: 0.0019 - val_acc: 0.0036\n",
      "Epoch 52/100\n",
      "779/779 [==============================] - 5s 7ms/step - loss: 3.3490e-04 - acc: 0.0013 - val_loss: 0.0016 - val_acc: 0.0036\n",
      "Epoch 53/100\n",
      "779/779 [==============================] - 5s 6ms/step - loss: 3.2888e-04 - acc: 0.0013 - val_loss: 0.0016 - val_acc: 0.0036\n",
      "Epoch 54/100\n",
      "779/779 [==============================] - 5s 6ms/step - loss: 3.2263e-04 - acc: 0.0013 - val_loss: 0.0016 - val_acc: 0.0036\n",
      "Epoch 55/100\n",
      "779/779 [==============================] - 5s 6ms/step - loss: 3.4439e-04 - acc: 0.0013 - val_loss: 0.0017 - val_acc: 0.0036\n",
      "Epoch 56/100\n",
      "779/779 [==============================] - 5s 6ms/step - loss: 3.1808e-04 - acc: 0.0013 - val_loss: 0.0020 - val_acc: 0.0036\n",
      "Epoch 57/100\n",
      "779/779 [==============================] - 5s 7ms/step - loss: 3.1124e-04 - acc: 0.0013 - val_loss: 0.0015 - val_acc: 0.0036\n",
      "Epoch 58/100\n"
     ]
    },
    {
     "name": "stdout",
     "output_type": "stream",
     "text": [
      "779/779 [==============================] - 8s 11ms/step - loss: 3.1368e-04 - acc: 0.0013 - val_loss: 0.0029 - val_acc: 0.0036\n",
      "Epoch 59/100\n",
      "779/779 [==============================] - 5s 6ms/step - loss: 3.3281e-04 - acc: 0.0013 - val_loss: 0.0015 - val_acc: 0.0036\n",
      "Epoch 60/100\n",
      "779/779 [==============================] - 5s 6ms/step - loss: 3.0508e-04 - acc: 0.0013 - val_loss: 0.0023 - val_acc: 0.0036\n",
      "Epoch 61/100\n",
      "779/779 [==============================] - 7s 9ms/step - loss: 3.0421e-04 - acc: 0.0013 - val_loss: 0.0014 - val_acc: 0.0036\n",
      "Epoch 62/100\n",
      "779/779 [==============================] - 7s 8ms/step - loss: 3.0126e-04 - acc: 0.0013 - val_loss: 0.0028 - val_acc: 0.0036\n",
      "Epoch 63/100\n",
      "779/779 [==============================] - 5s 6ms/step - loss: 2.7734e-04 - acc: 0.0013 - val_loss: 0.0015 - val_acc: 0.0036\n",
      "Epoch 64/100\n",
      "779/779 [==============================] - 6s 8ms/step - loss: 3.3617e-04 - acc: 0.0013 - val_loss: 0.0030 - val_acc: 0.0036\n",
      "Epoch 65/100\n",
      "779/779 [==============================] - 8s 10ms/step - loss: 2.9029e-04 - acc: 0.0013 - val_loss: 0.0020 - val_acc: 0.0036\n",
      "Epoch 66/100\n",
      "779/779 [==============================] - 5s 6ms/step - loss: 2.6712e-04 - acc: 0.0013 - val_loss: 0.0013 - val_acc: 0.0036\n",
      "Epoch 67/100\n",
      "779/779 [==============================] - 5s 6ms/step - loss: 2.7955e-04 - acc: 0.0013 - val_loss: 0.0025 - val_acc: 0.0036\n",
      "Epoch 68/100\n",
      "779/779 [==============================] - 8s 11ms/step - loss: 3.1159e-04 - acc: 0.0013 - val_loss: 0.0017 - val_acc: 0.0036\n",
      "Epoch 69/100\n",
      "779/779 [==============================] - 5s 6ms/step - loss: 2.5301e-04 - acc: 0.0013 - val_loss: 0.0012 - val_acc: 0.0036\n",
      "Epoch 70/100\n",
      "779/779 [==============================] - 5s 6ms/step - loss: 3.1052e-04 - acc: 0.0013 - val_loss: 0.0014 - val_acc: 0.0036\n",
      "Epoch 71/100\n",
      "779/779 [==============================] - 8s 10ms/step - loss: 2.4899e-04 - acc: 0.0013 - val_loss: 0.0014 - val_acc: 0.0036\n",
      "Epoch 72/100\n",
      "779/779 [==============================] - 6s 8ms/step - loss: 2.4462e-04 - acc: 0.0013 - val_loss: 0.0015 - val_acc: 0.0036\n",
      "Epoch 73/100\n",
      "779/779 [==============================] - 5s 6ms/step - loss: 2.5619e-04 - acc: 0.0013 - val_loss: 0.0031 - val_acc: 0.0036\n",
      "Epoch 74/100\n",
      "779/779 [==============================] - 6s 8ms/step - loss: 3.1741e-04 - acc: 0.0013 - val_loss: 0.0012 - val_acc: 0.0036\n",
      "Epoch 75/100\n",
      "779/779 [==============================] - 8s 10ms/step - loss: 2.8228e-04 - acc: 0.0013 - val_loss: 0.0020 - val_acc: 0.0036\n",
      "Epoch 76/100\n",
      "779/779 [==============================] - 5s 6ms/step - loss: 2.3353e-04 - acc: 0.0013 - val_loss: 0.0014 - val_acc: 0.0036\n",
      "Epoch 77/100\n",
      "779/779 [==============================] - 7s 9ms/step - loss: 2.3419e-04 - acc: 0.0013 - val_loss: 0.0013 - val_acc: 0.0036\n",
      "Epoch 78/100\n",
      "779/779 [==============================] - 7s 9ms/step - loss: 2.6567e-04 - acc: 0.0013 - val_loss: 0.0019 - val_acc: 0.0036\n",
      "Epoch 79/100\n",
      "779/779 [==============================] - 12s 15ms/step - loss: 2.2701e-04 - acc: 0.0013 - val_loss: 0.0012 - val_acc: 0.0036\n",
      "Epoch 80/100\n",
      "779/779 [==============================] - 5s 6ms/step - loss: 2.1698e-04 - acc: 0.0013 - val_loss: 0.0022 - val_acc: 0.0036\n",
      "Epoch 81/100\n",
      "779/779 [==============================] - 5s 7ms/step - loss: 2.3255e-04 - acc: 0.0013 - val_loss: 0.0011 - val_acc: 0.0036\n",
      "Epoch 82/100\n",
      "779/779 [==============================] - 8s 11ms/step - loss: 2.2858e-04 - acc: 0.0013 - val_loss: 0.0014 - val_acc: 0.0036\n",
      "Epoch 83/100\n",
      "779/779 [==============================] - 5s 6ms/step - loss: 2.0036e-04 - acc: 0.0013 - val_loss: 0.0011 - val_acc: 0.0036\n",
      "Epoch 84/100\n",
      "779/779 [==============================] - 5s 6ms/step - loss: 2.1409e-04 - acc: 0.0013 - val_loss: 0.0013 - val_acc: 0.0036\n",
      "Epoch 85/100\n",
      "779/779 [==============================] - 7s 9ms/step - loss: 2.0016e-04 - acc: 0.0013 - val_loss: 0.0014 - val_acc: 0.0036\n",
      "Epoch 86/100\n",
      "779/779 [==============================] - 8s 10ms/step - loss: 2.0381e-04 - acc: 0.0013 - val_loss: 0.0013 - val_acc: 0.0036\n",
      "Epoch 87/100\n",
      "779/779 [==============================] - 8s 10ms/step - loss: 1.9736e-04 - acc: 0.0013 - val_loss: 0.0011 - val_acc: 0.0036\n",
      "Epoch 88/100\n",
      "779/779 [==============================] - 10s 13ms/step - loss: 2.1022e-04 - acc: 0.0013 - val_loss: 0.0011 - val_acc: 0.0036\n",
      "Epoch 89/100\n",
      "779/779 [==============================] - 5s 6ms/step - loss: 1.8805e-04 - acc: 0.0013 - val_loss: 0.0015 - val_acc: 0.0036\n",
      "Epoch 90/100\n",
      "779/779 [==============================] - 6s 8ms/step - loss: 1.9417e-04 - acc: 0.0013 - val_loss: 0.0012 - val_acc: 0.0036\n",
      "Epoch 91/100\n",
      "779/779 [==============================] - 8s 10ms/step - loss: 1.9024e-04 - acc: 0.0013 - val_loss: 0.0016 - val_acc: 0.0036\n",
      "Epoch 92/100\n",
      "779/779 [==============================] - 5s 6ms/step - loss: 2.1378e-04 - acc: 0.0013 - val_loss: 0.0010 - val_acc: 0.0036\n",
      "Epoch 93/100\n",
      "779/779 [==============================] - 5s 6ms/step - loss: 1.9557e-04 - acc: 0.0013 - val_loss: 0.0012 - val_acc: 0.0036\n",
      "Epoch 94/100\n",
      "779/779 [==============================] - 8s 10ms/step - loss: 1.8932e-04 - acc: 0.0013 - val_loss: 0.0010 - val_acc: 0.0036\n",
      "Epoch 95/100\n",
      "779/779 [==============================] - 6s 7ms/step - loss: 1.7412e-04 - acc: 0.0013 - val_loss: 0.0010 - val_acc: 0.0036\n",
      "Epoch 96/100\n",
      "779/779 [==============================] - 5s 6ms/step - loss: 1.7391e-04 - acc: 0.0013 - val_loss: 0.0017 - val_acc: 0.0036\n",
      "Epoch 97/100\n",
      "779/779 [==============================] - 7s 9ms/step - loss: 1.9852e-04 - acc: 0.0013 - val_loss: 0.0012 - val_acc: 0.0036\n",
      "Epoch 98/100\n",
      "779/779 [==============================] - 7s 9ms/step - loss: 2.1669e-04 - acc: 0.0013 - val_loss: 0.0011 - val_acc: 0.0036\n",
      "Epoch 99/100\n",
      "779/779 [==============================] - 5s 6ms/step - loss: 2.0384e-04 - acc: 0.0013 - val_loss: 0.0011 - val_acc: 0.0036\n",
      "Epoch 100/100\n",
      "779/779 [==============================] - 6s 7ms/step - loss: 1.8409e-04 - acc: 0.0013 - val_loss: 9.7743e-04 - val_acc: 0.0036\n"
     ]
    },
    {
     "data": {
      "text/plain": [
       "<keras.callbacks.History at 0x258d4dcd1d0>"
      ]
     },
     "execution_count": 31,
     "metadata": {},
     "output_type": "execute_result"
    }
   ],
   "source": [
    "model.fit(X_train,y_train,validation_data=(X_test,y_test),epochs=100,batch_size=64)"
   ]
  },
  {
   "cell_type": "code",
   "execution_count": 37,
   "metadata": {},
   "outputs": [],
   "source": [
    "from sklearn.metrics import mean_squared_error"
   ]
  },
  {
   "cell_type": "code",
   "execution_count": 185,
   "metadata": {},
   "outputs": [],
   "source": [
    "train_predict=scaler.inverse_transform(model.predict(X_train))\n",
    "test_predict=scaler.inverse_transform(model.predict(X_test))"
   ]
  },
  {
   "cell_type": "code",
   "execution_count": 42,
   "metadata": {},
   "outputs": [],
   "source": [
    "import math"
   ]
  },
  {
   "cell_type": "code",
   "execution_count": 78,
   "metadata": {},
   "outputs": [
    {
     "data": {
      "text/plain": [
       "3.186186457216864"
      ]
     },
     "execution_count": 78,
     "metadata": {},
     "output_type": "execute_result"
    }
   ],
   "source": [
    "math.sqrt(mean_squared_error(scaler.inverse_transform(y_train),train_predict))"
   ]
  },
  {
   "cell_type": "code",
   "execution_count": 79,
   "metadata": {},
   "outputs": [
    {
     "data": {
      "text/plain": [
       "0.013451771404837751"
      ]
     },
     "execution_count": 79,
     "metadata": {},
     "output_type": "execute_result"
    }
   ],
   "source": [
    "math.sqrt(mean_squared_error(y_train,model.predict(X_train)))"
   ]
  },
  {
   "cell_type": "code",
   "execution_count": 46,
   "metadata": {},
   "outputs": [
    {
     "data": {
      "text/plain": [
       "248.24619987719683"
      ]
     },
     "execution_count": 46,
     "metadata": {},
     "output_type": "execute_result"
    }
   ],
   "source": [
    "math.sqrt(mean_squared_error(y_test,test_predict))"
   ]
  },
  {
   "cell_type": "markdown",
   "metadata": {},
   "source": [
    "# PREDICTION VISUALIZATION"
   ]
  },
  {
   "cell_type": "code",
   "execution_count": 186,
   "metadata": {},
   "outputs": [
    {
     "data": {
      "image/png": "[encoded data removed]",
      "text/plain": [
       "<Figure size 720x432 with 1 Axes>"
      ]
     },
     "metadata": {
      "needs_background": "light"
     },
     "output_type": "display_data"
    }
   ],
   "source": [
    "plt.figure(figsize=(10,6))\n",
    "plt.plot(data['date'][100:879],train_predict,'*',color='r',label='train_data')\n",
    "plt.plot(data['date'][979:len(data)-2],test_predict,'*',color='g',label='test_data')\n",
    "plt.plot(data['date'],data['close'],'-',color='b',label='orignal_data')\n",
    "plt.legend()\n",
    "plt.grid(linewidth=2)"
   ]
  },
  {
   "cell_type": "code",
   "execution_count": 196,
   "metadata": {},
   "outputs": [
    {
     "data": {
      "image/png": "[encoded data removed]",
      "text/plain": [
       "<Figure size 1080x576 with 3 Axes>"
      ]
     },
     "metadata": {
      "needs_background": "light"
     },
     "output_type": "display_data"
    }
   ],
   "source": [
    "plt.figure(figsize=(15,8))\n",
    "a=plt.subplot(1,3,1)\n",
    "plt.plot(data['date'],data['close'],'--',color='b',label='orignal_data')\n",
    "plt.title('orignal Data')\n",
    "plt.legend()\n",
    "plt.grid(linewidth=2)\n",
    "plt.subplot(1,3,2,sharex=a,sharey=a)\n",
    "plt.plot(data['date'][100:879],train_predict,'--',color='r',label='train_data')\n",
    "plt.plot(data['date'][979:len(data)-2],test_predict,'--',color='g',label='test_data')\n",
    "plt.title('train and test data')\n",
    "plt.legend()\n",
    "plt.grid(linewidth=2)\n",
    "plt.subplot(1,3,3)\n",
    "plt.plot(future_prediction,'--',color='r',label='future_prediction')\n",
    "plt.title('future_predicton')\n",
    "plt.legend()\n",
    "plt.grid(linewidth=2)\n",
    "\n"
   ]
  },
  {
   "cell_type": "code",
   "execution_count": 55,
   "metadata": {},
   "outputs": [
    {
     "data": {
      "text/plain": [
       "779"
      ]
     },
     "execution_count": 55,
     "metadata": {},
     "output_type": "execute_result"
    }
   ],
   "source": [
    "len(train_predict)"
   ]
  },
  {
   "cell_type": "code",
   "execution_count": 118,
   "metadata": {},
   "outputs": [
    {
     "data": {
      "text/plain": [
       "(378, 1)"
      ]
     },
     "execution_count": 118,
     "metadata": {},
     "output_type": "execute_result"
    }
   ],
   "source": [
    "test_data.shape"
   ]
  },
  {
   "cell_type": "code",
   "execution_count": 119,
   "metadata": {},
   "outputs": [
    {
     "data": {
      "text/plain": [
       "(277, 100, 1)"
      ]
     },
     "execution_count": 119,
     "metadata": {},
     "output_type": "execute_result"
    }
   ],
   "source": [
    "X_test.shape"
   ]
  },
  {
   "cell_type": "code",
   "execution_count": 190,
   "metadata": {},
   "outputs": [],
   "source": [
    "pred=y_test[-100:]\n",
    "\n",
    "pred=pred.tolist()"
   ]
  },
  {
   "cell_type": "code",
   "execution_count": 191,
   "metadata": {},
   "outputs": [],
   "source": [
    "i=0\n",
    "l=[]\n",
    "for i in range (0,365):\n",
    "    yhat=model.predict(np.array(pred).reshape(1,100,1))\n",
    "    l.append(yhat.tolist()[0])\n",
    "    pred.append(yhat.tolist()[0])\n",
    "    pred=pred[1:]\n",
    "    "
   ]
  },
  {
   "cell_type": "code",
   "execution_count": 192,
   "metadata": {},
   "outputs": [],
   "source": [
    "future_prediction=scaler.inverse_transform(l)"
   ]
  },
  {
   "cell_type": "code",
   "execution_count": 193,
   "metadata": {},
   "outputs": [
    {
     "data": {
      "text/plain": [
       "[<matplotlib.lines.Line2D at 0x258e2010588>]"
      ]
     },
     "execution_count": 193,
     "metadata": {},
     "output_type": "execute_result"
    },
    {
     "data": {
      "image/png": "[encoded data removed]",
      "text/plain": [
       "<Figure size 576x432 with 1 Axes>"
      ]
     },
     "metadata": {
      "needs_background": "light"
     },
     "output_type": "display_data"
    }
   ],
   "source": [
    "plt.figure(figsize=(8,6))\n",
    "plt.plot(future_prediction,'*',color='r')"
   ]
  },
  {
   "cell_type": "code",
   "execution_count": null,
   "metadata": {},
   "outputs": [],
   "source": []
  }
 ],
 "metadata": {
  "kernelspec": {
   "display_name": "Python 3",
   "language": "python",
   "name": "python3"
  },
  "language_info": {
   "codemirror_mode": {
    "name": "ipython",
    "version": 3
   },
   "file_extension": ".py",
   "mimetype": "text/x-python",
   "name": "python",
   "nbconvert_exporter": "python",
   "pygments_lexer": "ipython3",
   "version": "3.7.1"
  }
 },
 "nbformat": 4,
 "nbformat_minor": 2
}
